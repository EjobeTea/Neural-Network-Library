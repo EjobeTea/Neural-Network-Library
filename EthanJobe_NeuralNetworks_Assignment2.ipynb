{
  "cells": [
    {
      "cell_type": "markdown",
      "metadata": {
        "id": "_D8pOCpCy7uq"
      },
      "source": [
        "# Imports"
      ]
    },
    {
      "cell_type": "code",
      "execution_count": null,
      "metadata": {
        "id": "bAMrrDNNps7E"
      },
      "outputs": [],
      "source": [
        "import numpy as np\n",
        "import pandas as pd\n",
        "import matplotlib.pyplot as plt\n",
        "from math import sqrt\n",
        "from sklearn.preprocessing import StandardScaler\n",
        "from sklearn.model_selection import train_test_split"
      ]
    },
    {
      "cell_type": "code",
      "execution_count": null,
      "metadata": {
        "colab": {
          "base_uri": "https://localhost:8080/"
        },
        "id": "-a4KS6FUy9-L",
        "outputId": "8750b241-9692-49d4-e87b-b86763f170f6"
      },
      "outputs": [
        {
          "output_type": "stream",
          "name": "stdout",
          "text": [
            "File loaded successfully!\n"
          ]
        }
      ],
      "source": [
        "import os\n",
        "import numpy as np\n",
        "\n",
        "file_path = 'nyc_taxi_data.npy'\n",
        "\n",
        "if os.path.exists(file_path):\n",
        "  data = np.load(file_path, allow_pickle=True).item()\n",
        "  print(\"File loaded successfully!\")\n",
        "else:\n",
        "  print(f\"Error: File not found at {file_path}\")\n"
      ]
    },
    {
      "cell_type": "markdown",
      "metadata": {
        "id": "meSFzKGOp60x"
      },
      "source": [
        "# Layer"
      ]
    },
    {
      "cell_type": "code",
      "execution_count": null,
      "metadata": {
        "id": "gyz50Whkl7Bc"
      },
      "outputs": [],
      "source": [
        "class Layer:\n",
        "  def __init__(self, input_dim, output_dim):\n",
        "      self.input_dim = input_dim\n",
        "      self.output_dim = output_dim\n",
        "      self.weights = None\n",
        "      self.bias = None\n",
        "      self.input = None\n",
        "\n",
        "\n",
        "  def initialize_params(self):\n",
        "      self.weights = np.random.randn(self.input_dim, self.output_dim) * 0.01\n",
        "      self.bias = np.zeros((1, self.output_dim))\n",
        "\n",
        "  def forward_pass(self, x):\n",
        "    raise NotImplementedError\n",
        "\n",
        "  def backward_pass(self, grad):\n",
        "    raise NotImplementedError"
      ]
    },
    {
      "cell_type": "markdown",
      "metadata": {
        "id": "0AXMH_7Ep8DD"
      },
      "source": [
        "# Linear Layer"
      ]
    },
    {
      "cell_type": "code",
      "execution_count": null,
      "metadata": {
        "id": "MDP2Y16mmgRE"
      },
      "outputs": [],
      "source": [
        "class Linear(Layer):\n",
        "    def __init__(self, input_dim, output_dim):\n",
        "        super().__init__(input_dim, output_dim)\n",
        "        self._init_weights()\n",
        "\n",
        "    def _init_weights(self):\n",
        "        \"\"\"\n",
        "        Initialize weights and biases using a scaling factor.\n",
        "        \"\"\"\n",
        "        scale = np.sqrt(2 / self.input_dim)\n",
        "        self.weights = np.random.randn(self.input_dim, self.output_dim) * scale  # Shape: (input_dim, output_dim)\n",
        "        self.bias = np.zeros((1, self.output_dim))  # Shape: (1, output_dim)\n",
        "\n",
        "    def forward_pass(self, x):\n",
        "        \"\"\"\n",
        "        Forward pass for the Linear layer.\n",
        "\n",
        "        Parameters:\n",
        "        ----------\n",
        "        x: numpy.ndarray\n",
        "            Input vector of shape (batch_size, input_dim).\n",
        "\n",
        "        Returns:\n",
        "        -------\n",
        "        output: numpy.ndarray\n",
        "            Output vector of shape (batch_size, output_dim).\n",
        "        \"\"\"\n",
        "        self.input = x  # Cache input for backward pass\n",
        "        return x @ self.weights + self.bias  # Shape: (batch_size, output_dim)\n",
        "\n",
        "    def backward_pass(self, grad_output):\n",
        "        \"\"\"\n",
        "        Backward pass for the Linear layer.\n",
        "\n",
        "        Parameters:\n",
        "        ----------\n",
        "        grad_output: numpy.ndarray\n",
        "            Gradient received from the next layer, of shape (batch_size, output_dim).\n",
        "\n",
        "        Returns:\n",
        "        -------\n",
        "        grad_input: numpy.ndarray\n",
        "            Gradient to pass back to the previous layer, of shape (batch_size, input_dim).\n",
        "        grad_weights: numpy.ndarray\n",
        "            Gradient for weights, of shape (input_dim, output_dim).\n",
        "        grad_bias: numpy.ndarray\n",
        "            Gradient for bias, of shape (1, output_dim).\n",
        "        \"\"\"\n",
        "        # ∂L/∂x = ∂L/∂y @ W.T\n",
        "        grad_input = grad_output @ self.weights.T  # Shape: (batch_size, input_dim)\n",
        "\n",
        "        # ∂L/∂W = x.T @ ∂L/∂y\n",
        "        grad_weights = self.input.T @ grad_output  # Shape: (input_dim, output_dim)\n",
        "\n",
        "        # ∂L/∂b = summation of ∂L/∂y\n",
        "        grad_bias = np.sum(grad_output, axis=0, keepdims=True)  # Shape: (1, output_dim)\n",
        "\n",
        "        self.grad_weights = grad_weights\n",
        "        self.grad_bias = grad_bias\n",
        "\n",
        "        return grad_input"
      ]
    },
    {
      "cell_type": "markdown",
      "metadata": {
        "id": "TmvUu5emp9hB"
      },
      "source": [
        "# Sigmoid Function"
      ]
    },
    {
      "cell_type": "code",
      "execution_count": null,
      "metadata": {
        "id": "JI-k9xveordB"
      },
      "outputs": [],
      "source": [
        "class Sigmoid(Layer):\n",
        "\n",
        "  def forward_pass(self, x):\n",
        "    self.input = x\n",
        "    return 1/(1 + np.exp(-x))\n",
        "\n",
        "  def backward_pass(self, grad_output):\n",
        "\n",
        "    sigmoid = 1/(1 + np.exp(-self.input))\n",
        "    grad_sigmoid = sigmoid * (1 - sigmoid)\n",
        "\n",
        "    grad_input = grad_output * grad_sigmoid\n",
        "    return grad_input"
      ]
    },
    {
      "cell_type": "markdown",
      "metadata": {
        "id": "DrvVxCZDUOha"
      },
      "source": [
        "# Tanh"
      ]
    },
    {
      "cell_type": "code",
      "execution_count": null,
      "metadata": {
        "id": "_b8CYeFQUTTO"
      },
      "outputs": [],
      "source": [
        "class Tanh(Layer):\n",
        "\n",
        "    def forward_pass(self, x):\n",
        "        self.input = x\n",
        "        return np.tanh(x)\n",
        "\n",
        "    def backward_pass(self, grad_output):\n",
        "        tanh_derivative = 1 - np.tanh(self.input)**2\n",
        "        grad_input = grad_output * tanh_derivative\n",
        "        return grad_input"
      ]
    },
    {
      "cell_type": "markdown",
      "metadata": {
        "id": "DOiQOasJp_WX"
      },
      "source": [
        "# ReLU"
      ]
    },
    {
      "cell_type": "code",
      "execution_count": null,
      "metadata": {
        "id": "dM8x4TPcnyqy"
      },
      "outputs": [],
      "source": [
        "class RectifiedLinearUnit(Layer):\n",
        "\n",
        "  def forward_pass(self, x):\n",
        "    self.input = x\n",
        "    self.output = np.maximum(0, x)\n",
        "    return self.output\n",
        "\n",
        "  def backward_pass(self, grad_output):\n",
        "    relu_derivative = (self.input > 0).astype(float) #1 if >0, 0 otherwise\n",
        "    grad_input = grad_output * relu_derivative\n",
        "    return grad_input"
      ]
    },
    {
      "cell_type": "markdown",
      "metadata": {
        "id": "V0zGkxCkqDI8"
      },
      "source": [
        "# Binary Cross-Entropy Loss"
      ]
    },
    {
      "cell_type": "code",
      "execution_count": null,
      "metadata": {
        "id": "6jQukgz7ol30"
      },
      "outputs": [],
      "source": [
        "class BinaryCrossEntropyLoss:\n",
        "    def forward_pass(self, y_pred, y_true):\n",
        "        \"\"\"\n",
        "        Compute binary cross-entropy loss.\n",
        "\n",
        "        Parameters:\n",
        "        ----------\n",
        "        y_pred: numpy.ndarray\n",
        "           Predicted output vector (batch_size, output_dim)\n",
        "        y_true: numpy.ndarray\n",
        "           True output vector (batch_size, output_dim)\n",
        "\n",
        "        Returns:\n",
        "        -------\n",
        "        loss: float\n",
        "           Binary cross-entropy loss\n",
        "        \"\"\"\n",
        "        # Clip predictions to avoid log(0) or log(1)\n",
        "        y_pred = np.clip(y_pred, 1e-15, 1 - 1e-15)\n",
        "\n",
        "        loss = -np.mean(y_true * np.log(y_pred) + (1 - y_true) * np.log(1 - y_pred))\n",
        "        return loss\n",
        "\n",
        "    def backward_pass(self, y_pred, y_true):\n",
        "        \"\"\"\n",
        "        Compute gradient of binary cross-entropy loss.\n",
        "\n",
        "        Parameters:\n",
        "        ----------\n",
        "        y_pred: numpy.ndarray\n",
        "           Predicted output vector (batch_size, output_dim)\n",
        "        y_true: numpy.ndarray\n",
        "           True output vector (batch_size, output_dim)\n",
        "\n",
        "        Returns:\n",
        "        -------\n",
        "        grad: numpy.ndarray\n",
        "           Gradient of binary cross-entropy loss\n",
        "        \"\"\"\n",
        "        # Clip predictions to avoid division by zero\n",
        "        y_pred = np.clip(y_pred, 1e-15, 1 - 1e-15)\n",
        "\n",
        "        grad = (y_pred - y_true) / (y_pred * (1 - y_pred))\n",
        "        return grad"
      ]
    },
    {
      "cell_type": "markdown",
      "metadata": {
        "id": "Hmd8riwQj7JM"
      },
      "source": [
        "# MSE Loss"
      ]
    },
    {
      "cell_type": "code",
      "execution_count": null,
      "metadata": {
        "id": "R7Z8y8lij9r3"
      },
      "outputs": [],
      "source": [
        "class MSELoss:\n",
        "    def forward_pass(self, y_pred, y_true):\n",
        "        \"\"\"\n",
        "        Compute Mean Squared Error (MSE) loss.\n",
        "\n",
        "        Parameters:\n",
        "        ----------\n",
        "        y_pred: numpy.ndarray\n",
        "           Predicted output vector (batch_size, output_dim)\n",
        "        y_true: numpy.ndarray\n",
        "           True output vector (batch_size, output_dim)\n",
        "\n",
        "        Returns:\n",
        "        -------\n",
        "        loss: float\n",
        "           Mean Squared Error loss\n",
        "        \"\"\"\n",
        "\n",
        "        if y_pred.shape[0] != y_true.shape[0]:\n",
        "          print(f\"y_pred.shape: {y_pred.shape} | y_true.shape:{y_true.shape}\")\n",
        "          raise ValueError(\"MSE could not compute due shape mismatch\")\n",
        "\n",
        "        return np.mean((y_pred - y_true) ** 2)\n",
        "\n",
        "    def backward_pass(self, y_pred, y_true):\n",
        "        \"\"\"\n",
        "        Compute gradient of Mean Squared Error (MSE) loss.\n",
        "\n",
        "        Parameters:\n",
        "        ----------\n",
        "        y_pred: numpy.ndarray\n",
        "           Predicted output vector (batch_size, output_dim)\n",
        "        y_true: numpy.ndarray\n",
        "           True output vector (batch_size, output_dim)\n",
        "\n",
        "        Returns:\n",
        "        -------\n",
        "        grad: numpy.ndarray\n",
        "           Gradient of MSE loss\n",
        "        \"\"\"\n",
        "\n",
        "        return 2 * (y_pred - y_true) / y_true.size"
      ]
    },
    {
      "cell_type": "markdown",
      "source": [
        "# RMSLE Loss"
      ],
      "metadata": {
        "id": "cjGgI5xPfAbJ"
      }
    },
    {
      "cell_type": "code",
      "source": [
        "class RMSLELoss:\n",
        "    def forward_pass(self, y_true, y_pred):\n",
        "        \"\"\"\n",
        "        Compute Root Mean Squared Logarithmic Error (RMSLE).\n",
        "\n",
        "        Parameters:\n",
        "        ----------\n",
        "        y_true: numpy.ndarray\n",
        "            True values.\n",
        "        y_pred: numpy.ndarray\n",
        "            Predicted values.\n",
        "\n",
        "        Returns:\n",
        "        -------\n",
        "        rmsle: float\n",
        "            Root Mean Squared Logarithmic Error.\n",
        "        \"\"\"\n",
        "        # Ensure inputs are numpy arrays\n",
        "        y_true = np.asarray(y_true)\n",
        "        y_pred = np.asarray(y_pred)\n",
        "\n",
        "        # Clip predictions to avoid log(0)\n",
        "        y_pred = np.clip(y_pred, 0, None)\n",
        "\n",
        "        # Compute RMSLE\n",
        "        log_error = np.log1p(y_true) - np.log1p(y_pred)\n",
        "        return np.sqrt(np.mean(log_error ** 2))\n",
        "\n",
        "    def backward_pass(self, y_pred, y_true):\n",
        "        \"\"\"\n",
        "        Compute gradient of Root Mean Squared Logarithmic Error (RMSLE).\n",
        "\n",
        "        Parameters:\n",
        "        ----------\n",
        "        y_pred: numpy.ndarray\n",
        "            Predicted values.\n",
        "        y_true: numpy.ndarray\n",
        "            True values.\n",
        "\n",
        "        Returns:\n",
        "        -------\n",
        "        grad: numpy.ndarray\n",
        "            Gradient of RMSLE loss.\n",
        "        \"\"\"\n",
        "        # Ensure inputs are numpy arrays\n",
        "        y_pred = np.asarray(y_pred)\n",
        "        y_true = np.asarray(y_true)\n",
        "\n",
        "        # Clip predictions to avoid log(0)\n",
        "        y_pred = np.clip(y_pred, 0, None)\n",
        "\n",
        "        # Compute log1p of inputs\n",
        "        log_true = np.log1p(y_true)\n",
        "        log_pred = np.log1p(y_pred)\n",
        "\n",
        "        # Compute the gradient of RMSLE\n",
        "        n = y_true.size  # Number of elements\n",
        "        grad = (2 * (log_pred - log_true)) / (n * np.sqrt(np.mean((log_true - log_pred) ** 2)) * (1 / (1 + y_pred)))\n",
        "\n",
        "        return grad"
      ],
      "metadata": {
        "id": "NYBgJy-0fEXc"
      },
      "execution_count": null,
      "outputs": []
    },
    {
      "cell_type": "markdown",
      "metadata": {
        "id": "XXN3dXH3qGGA"
      },
      "source": [
        "# Sequential"
      ]
    },
    {
      "cell_type": "code",
      "execution_count": null,
      "metadata": {
        "id": "9oUNYK4On2lA"
      },
      "outputs": [],
      "source": [
        "class Sequential(Layer):\n",
        "    def __init__(self, layers):\n",
        "        self.layers = layers\n",
        "\n",
        "    def forward_pass(self, x):\n",
        "        for layer in self.layers:\n",
        "            x = layer.forward_pass(x)\n",
        "        return x\n",
        "\n",
        "    def backward_pass(self, grad_output):\n",
        "        grad = grad_output\n",
        "        for layer in reversed(self.layers):\n",
        "            grad = layer.backward_pass(grad)\n",
        "        return grad\n",
        "\n",
        "    def save_model(self, save_path=None):\n",
        "        if save_path:\n",
        "            os.makedirs(save_path, exist_ok=True)\n",
        "            for i, layer in enumerate(self.layers):\n",
        "                if isinstance(layer, Linear):\n",
        "                    weights_path = os.path.join(save_path, f\"layer_{i}_weights.npy\")\n",
        "                    bias_path = os.path.join(save_path, f\"layer_{i}_bias.npy\")\n",
        "                    np.save(weights_path, layer.weights)\n",
        "                    np.save(bias_path, layer.bias)\n",
        "        else:\n",
        "            print(\"No save path provided. Model parameters not saved.\")\n",
        "\n",
        "    def load_model(self, load_path=None):\n",
        "        if load_path:\n",
        "            for i, layer in enumerate(self.layers):\n",
        "                if isinstance(layer, Linear):\n",
        "                    weights_path = os.path.join(load_path, f\"layer_{i}_weights.npy\")\n",
        "                    bias_path = os.path.join(load_path, f\"layer_{i}_bias.npy\")\n",
        "                    layer.weights = np.load(weights_path)\n",
        "                    layer.bias = np.load(bias_path)\n",
        "        else:\n",
        "            print(\"No load path provided. Model parameters not loaded.\")"
      ]
    },
    {
      "cell_type": "markdown",
      "metadata": {
        "id": "hcq8B3D0pmMA"
      },
      "source": [
        "# Testing"
      ]
    },
    {
      "cell_type": "markdown",
      "metadata": {
        "id": "cU1NSxkQ2XKD"
      },
      "source": [
        "## XOR Test"
      ]
    },
    {
      "cell_type": "code",
      "execution_count": null,
      "metadata": {
        "id": "dbRbRNbSzJ-G",
        "colab": {
          "base_uri": "https://localhost:8080/"
        },
        "outputId": "db7e82b4-c7f7-4476-eb82-5e551987bdad"
      },
      "outputs": [
        {
          "output_type": "stream",
          "name": "stdout",
          "text": [
            "Training for XOR:\n",
            "Epoch: 0, Loss: 0.6955779381258763\n",
            "Epoch: 1000, Loss: 0.6905710989292064\n",
            "Epoch: 2000, Loss: 0.2625359702271389\n",
            "Epoch: 3000, Loss: 0.024617778829737043\n",
            "Epoch: 4000, Loss: 0.009652136939420124\n",
            "Epoch: 5000, Loss: 0.00564827039466283\n",
            "Epoch: 6000, Loss: 0.003890157786472382\n",
            "Epoch: 7000, Loss: 0.002925782592573935\n",
            "Epoch: 8000, Loss: 0.002324769583803098\n",
            "Epoch: 9000, Loss: 0.0019171896941865623\n",
            "Epoch: 10000, Loss: 0.0016239889204294642\n",
            "Epoch: 11000, Loss: 0.0014051205022737668\n",
            "Epoch: 12000, Loss: 0.0012343470971343318\n",
            "Epoch: 13000, Loss: 0.0010988211450542547\n",
            "Epoch: 14000, Loss: 0.00098880720470601\n",
            "Epoch: 15000, Loss: 0.0008972474376972183\n",
            "Epoch: 16000, Loss: 0.0008124754546593794\n",
            "Epoch: 17000, Loss: 0.0007387919157385203\n",
            "Epoch: 18000, Loss: 0.0006766783370865796\n",
            "Epoch: 19000, Loss: 0.0006230703176557897\n",
            "Final epoch: 19999, Final Loss: 0.0005768085354982319\n"
          ]
        }
      ],
      "source": [
        "# Testing XOR Data\n",
        "X = np.array([[0, 0], [0, 1], [1, 0], [1, 1]])\n",
        "y = np.array([[0], [1], [1], [0]])\n",
        "\n",
        "input_dim = 2\n",
        "hidden_dim = 4\n",
        "output_dim = 1\n",
        "\n",
        "linear1 = Linear(input_dim, hidden_dim)\n",
        "linear2 = Linear(hidden_dim, output_dim)\n",
        "\n",
        "# Hidden layers\n",
        "sigmoid1 = Sigmoid(hidden_dim, hidden_dim)\n",
        "tanh1 = Tanh(hidden_dim, hidden_dim)\n",
        "relu1 = RectifiedLinearUnit(hidden_dim, hidden_dim)\n",
        "\n",
        "# Outside layers\n",
        "sigmoid2 = Sigmoid(output_dim, output_dim)\n",
        "tanh2 = Tanh(output_dim, output_dim)\n",
        "relu2 = RectifiedLinearUnit(output_dim, output_dim)\n",
        "\n",
        "linear1.initialize_params()\n",
        "linear2.initialize_params()\n",
        "\n",
        "# Design model\n",
        "model = Sequential([linear1, relu1, linear2, sigmoid2])\n",
        "\n",
        "bce_loss = BinaryCrossEntropyLoss()\n",
        "\n",
        "# Training parameters\n",
        "epochs = 20000\n",
        "lr = 0.01\n",
        "\n",
        "# Training loop\n",
        "# -------------\n",
        "print(\"Training for XOR:\")\n",
        "for epoch in range(epochs):\n",
        "    epoch_loss = 0\n",
        "\n",
        "    for i in range(X.shape[0]):\n",
        "        x = X[i].reshape(1, -1)\n",
        "        y_true = y[i].reshape(1, -1)\n",
        "\n",
        "        # Forward pass\n",
        "        y_pred = model.forward_pass(x)\n",
        "        loss = bce_loss.forward_pass(y_pred, y_true)\n",
        "\n",
        "        # Backward pass\n",
        "        grad_y_pred = bce_loss.backward_pass(y_pred, y_true)\n",
        "        grad_input = model.backward_pass(grad_y_pred)\n",
        "\n",
        "        # Update weights and biases (Gradient Descent)\n",
        "        for layer in model.layers:\n",
        "            if isinstance(layer, Linear):\n",
        "                layer.weights = layer.weights -lr*layer.grad_weights\n",
        "                layer.bias = layer.bias - lr * layer.grad_bias\n",
        "\n",
        "    if epoch % 1000 == 0:\n",
        "        print(f\"Epoch: {epoch}, Loss: {loss}\")\n",
        "print(f\"Final epoch: {epoch}, Final Loss: {loss}\")"
      ]
    },
    {
      "cell_type": "markdown",
      "metadata": {
        "id": "aWYgvVUaYBuD"
      },
      "source": [
        "## XOR Evaluation"
      ]
    },
    {
      "cell_type": "markdown",
      "metadata": {
        "id": "Ghw9JwCvYFaa"
      },
      "source": [
        "To fine-tune this model, I played with parameters like epochs, increasing hidden dimensions from 2 to 4, and experimented with the model design. I had decent results after using ReLU as the hidden layer and sigmoid as the output layer. I also experimented using tangent, but could not get a loss below 30. Overall, I was able to have my model guess correct values and solve the XOR problem."
      ]
    },
    {
      "cell_type": "code",
      "source": [
        "# Load XOR_solved [ optional ]\n",
        "# model.load_model(load_path=\"XOR_solved\")"
      ],
      "metadata": {
        "id": "wHSCEtPqqmgP"
      },
      "execution_count": null,
      "outputs": []
    },
    {
      "cell_type": "code",
      "execution_count": null,
      "metadata": {
        "id": "dK4T3twtXEqb",
        "colab": {
          "base_uri": "https://localhost:8080/"
        },
        "outputId": "a759be09-38db-42b9-cfb2-40f088901319"
      },
      "outputs": [
        {
          "output_type": "stream",
          "name": "stdout",
          "text": [
            "Evaluating XOR:\n",
            "Input: [[0 0]], Predicted: [[0]], True: [[0]]\n",
            "Input: [[0 1]], Predicted: [[1]], True: [[1]]\n",
            "Input: [[1 0]], Predicted: [[1]], True: [[1]]\n",
            "Input: [[1 1]], Predicted: [[0]], True: [[0]]\n"
          ]
        }
      ],
      "source": [
        "# Evaluate XOR predictions\n",
        "print(\"Evaluating XOR:\")\n",
        "for i in range(len(X)):\n",
        "    x = X[i].reshape(1, -1)\n",
        "    y_true = y[i].reshape(1, -1)\n",
        "    y_pred = model.forward_pass(x)\n",
        "\n",
        "    # Threshold predictions\n",
        "    y_pred_binary = (y_pred >= 0.5).astype(int)\n",
        "\n",
        "    print(f\"Input: {x}, Predicted: {y_pred_binary}, True: {y_true}\")"
      ]
    },
    {
      "cell_type": "code",
      "source": [
        "# Save model [ optional ]\n",
        "model.save_model(save_path=\"XOR_solved\")"
      ],
      "metadata": {
        "id": "Ecvz-0t1qltD"
      },
      "execution_count": null,
      "outputs": []
    },
    {
      "cell_type": "markdown",
      "metadata": {
        "id": "hXbvPugHZBno"
      },
      "source": [
        "# Trip Duration Model"
      ]
    },
    {
      "cell_type": "markdown",
      "metadata": {
        "id": "gQqnfq0ptwiC"
      },
      "source": [
        "## Dataset Preprocessing"
      ]
    },
    {
      "cell_type": "code",
      "execution_count": null,
      "metadata": {
        "id": "j8NzswQQQAMJ"
      },
      "outputs": [],
      "source": [
        "X_train = data['X_train']\n",
        "X_test  = data['X_test']\n",
        "y_train = data['y_train']\n",
        "y_test  = data['y_test']\n",
        "\n",
        "# Get validation sets\n",
        "X_train, X_val, y_train, y_val = train_test_split(X_train, y_train, test_size=0.1, random_state=42)\n",
        "\n",
        "# 1. Convert datetime columns to datetime objects:\n",
        "X_train['pickup_datetime'] = pd.to_datetime(X_train['pickup_datetime'])\n",
        "X_test['pickup_datetime']  = pd.to_datetime(X_test['pickup_datetime'])\n",
        "X_val['pickup_datetime']   = pd.to_datetime(X_val['pickup_datetime'])\n",
        "\n",
        "X_train['dropoff_datetime'] = pd.to_datetime(X_train['dropoff_datetime'])\n",
        "X_test['dropoff_datetime']  = pd.to_datetime(X_test['dropoff_datetime'])\n",
        "X_val['dropoff_datetime']   = pd.to_datetime(X_val['dropoff_datetime'])\n",
        "\n",
        "# 2. Convert 'store_and_fwd_flag' to numerical:\n",
        "X_train['store_and_fwd_flag'] = X_train['store_and_fwd_flag'].map({'Y': 1, 'N': 0})\n",
        "X_test['store_and_fwd_flag']  = X_test['store_and_fwd_flag'].map({'Y': 1, 'N': 0})\n",
        "X_val['store_and_fwd_flag']   = X_val['store_and_fwd_flag'].map({'Y': 1, 'N': 0})\n",
        "\n",
        "# 3. Feature extraction:\n",
        "X_train['trip_duration_seconds'] = (X_train['dropoff_datetime'] - X_train['pickup_datetime']).dt.total_seconds()\n",
        "X_test['trip_duration_seconds']  = (X_test['dropoff_datetime'] - X_test['pickup_datetime']).dt.total_seconds()\n",
        "X_val['trip_duration_seconds']   = (X_val['dropoff_datetime'] - X_val['pickup_datetime']).dt.total_seconds()\n",
        "\n",
        "X_val['pickup_hour']        = X_val['pickup_datetime'].dt.hour\n",
        "X_val['pickup_day_of_week'] = X_val['pickup_datetime'].dt.dayofweek\n",
        "X_val['pickup_month']       = X_val['pickup_datetime'].dt.month\n",
        "\n",
        "X_train['pickup_hour']        = X_train['pickup_datetime'].dt.hour\n",
        "X_train['pickup_day_of_week'] = X_train['pickup_datetime'].dt.dayofweek\n",
        "X_train['pickup_month']       = X_train['pickup_datetime'].dt.month\n",
        "\n",
        "X_test['pickup_hour']        = X_test['pickup_datetime'].dt.hour\n",
        "X_test['pickup_day_of_week'] = X_test['pickup_datetime'].dt.dayofweek\n",
        "X_test['pickup_month']       = X_test['pickup_datetime'].dt.month\n",
        "\n",
        "X_val['manhattan_distance']   = abs(X_val['pickup_longitude'] - X_val['dropoff_longitude']) + abs(X_val['pickup_latitude'] - X_val['dropoff_latitude'])\n",
        "X_train['manhattan_distance'] = abs(X_train['pickup_longitude'] - X_train['dropoff_longitude']) + abs(X_train['pickup_latitude'] - X_train['dropoff_latitude'])\n",
        "X_test['manhattan_distance']  = abs(X_test['pickup_longitude'] - X_test['dropoff_longitude']) + abs(X_test['pickup_latitude'] - X_test['dropoff_latitude'])\n",
        "\n",
        "# 4. Feature Scaling:\n",
        "# Standardization from StandardScalar (z score): z = (x - μ) / σ\n",
        "numerical_features = ['passenger_count', 'pickup_longitude', 'pickup_latitude', 'dropoff_longitude', 'dropoff_latitude', 'trip_duration_seconds',   'pickup_hour', 'pickup_day_of_week', 'pickup_month', 'manhattan_distance']\n",
        "X3_features        = ['pickup_longitude', 'pickup_latitude', 'dropoff_longitude', 'dropoff_latitude', 'pickup_hour']\n",
        "\n",
        "scaler= StandardScaler()\n",
        "X_train[numerical_features] = scaler.fit_transform(X_train[numerical_features])\n",
        "X_test[numerical_features]  = scaler.transform(X_test[numerical_features])\n",
        "X_val[numerical_features]   = scaler.transform(X_val[numerical_features])\n",
        "\n",
        "# 5. Drop unnecessary columns:\n",
        "X_val   = X_val.drop(['id','vendor_id', 'store_and_fwd_flag', 'pickup_datetime', 'dropoff_datetime'], axis=1)\n",
        "X_train = X_train.drop(['id','vendor_id','store_and_fwd_flag', 'pickup_datetime', 'dropoff_datetime'], axis=1)\n",
        "X_test  = X_test.drop(['id','vendor_id','store_and_fwd_flag', 'pickup_datetime', 'dropoff_datetime'], axis=1)\n",
        "\n",
        "# 6. Convert DataFrames to NumPy arrays\n",
        "X_train = X_train.values\n",
        "X_val   = X_val.values\n",
        "X_test  = X_test.values\n",
        "y_train = y_train.values\n",
        "y_val   = y_val.values\n",
        "y_test  = y_test.values\n",
        "\n",
        "y_train = scaler.fit_transform(y_train.reshape(-1, 1))\n",
        "y_val   = scaler.transform(y_val.reshape(-1, 1))\n",
        "y_test  = scaler.transform(y_test.reshape(-1, 1))\n",
        "\n",
        "# Testing dataframes\n",
        "# print(X_train.head())\n",
        "# print(X_test.head())"
      ]
    },
    {
      "cell_type": "code",
      "source": [
        "# Use same data for model 2\n",
        "cached_X_train = X_train.copy()\n",
        "cached_y_train = y_train.copy()\n",
        "cached_X_test  = X_test.copy()\n",
        "cached_y_test  = y_test.copy()\n",
        "cached_X_val   = X_val.copy()\n",
        "cached_y_val   = y_val.copy()"
      ],
      "metadata": {
        "id": "yTUSU9gSlEDX"
      },
      "execution_count": null,
      "outputs": []
    },
    {
      "cell_type": "code",
      "source": [
        "# Copy shared data for model 3\n",
        "X3_train = X_train[:, [numerical_features.index(f) for f in X3_features]]\n",
        "X3_val   = X_val[:, [numerical_features.index(f) for f in X3_features]]\n",
        "X3_test  = X_test[:, [numerical_features.index(f) for f in X3_features]]\n",
        "y3_train = y_train.copy()\n",
        "y3_val   = y_val.copy()\n",
        "y3_test  = y_test.copy()"
      ],
      "metadata": {
        "id": "sSCdwvKhKuHn"
      },
      "execution_count": null,
      "outputs": []
    },
    {
      "cell_type": "markdown",
      "source": [
        "# Model 1"
      ],
      "metadata": {
        "id": "6tNJTUUsry9Z"
      }
    },
    {
      "cell_type": "code",
      "source": [
        "# Reusing data from previous model\n",
        "X_train = cached_X_train\n",
        "y_train = cached_y_train\n",
        "X_test = cached_X_test\n",
        "y_test = cached_y_test\n",
        "X_val = cached_X_val\n",
        "y_val = cached_y_val\n",
        "\n",
        "# Define model dimensions\n",
        "input_dim = X_train.shape[1]\n",
        "hidden_dim = 16\n",
        "output_dim = 1\n",
        "\n",
        "linear1 = Linear(input_dim, hidden_dim)\n",
        "relu1 = RectifiedLinearUnit(hidden_dim, hidden_dim)\n",
        "\n",
        "linear2 = Linear(hidden_dim, output_dim)\n",
        "relu2 = RectifiedLinearUnit(output_dim, output_dim)\n",
        "\n",
        "# Initialize model\n",
        "model = Sequential([linear1, relu1, linear2, relu2])\n",
        "\n",
        "mse_loss = MSELoss()\n",
        "rmsle_loss = RMSLELoss()\n",
        "\n",
        "# Training parameters\n",
        "epochs = 140\n",
        "lr = 0.0001\n",
        "batch_size = 32\n",
        "\n",
        "# Early stopping parameters\n",
        "patience = 3\n",
        "epoch_no_improvement = 0\n",
        "best_val_loss = float('inf')\n",
        "\n",
        "# Lists to store losses for plotting\n",
        "train_losses = []\n",
        "val_losses = []\n",
        "\n",
        "# Training loop\n",
        "for epoch in range(epochs):\n",
        "    epoch_loss = 0\n",
        "    for i in range(0, len(X_train), batch_size):\n",
        "        x = X_train[i:i + batch_size]\n",
        "        y_true = y_train[i:i + batch_size]\n",
        "\n",
        "        # Forward Pass\n",
        "        y_pred = model.forward_pass(x)\n",
        "        loss = mse_loss.forward_pass(y_pred, y_true)\n",
        "\n",
        "        # Backward pass\n",
        "        grad_y_pred = mse_loss.backward_pass(y_pred, y_true)\n",
        "        model.backward_pass(grad_y_pred)\n",
        "\n",
        "        # Update weights and biases (Gradient Descent)\n",
        "        for layer in model.layers:\n",
        "            if isinstance(layer, Linear):\n",
        "                layer.weights -= lr * layer.grad_weights\n",
        "                layer.bias -= lr * layer.grad_bias\n",
        "\n",
        "        epoch_loss += loss\n",
        "\n",
        "    epoch_loss /= (len(X_train) // batch_size)\n",
        "    train_losses.append(epoch_loss)  # Store training loss (plotting)\n",
        "\n",
        "    # Validation loss\n",
        "    val_pred = model.forward_pass(X_val)\n",
        "    val_loss = mse_loss.forward_pass(val_pred, y_val)\n",
        "    val_losses.append(val_loss)  # Store validation loss (plotting)\n",
        "\n",
        "    # Early stopping logic\n",
        "    if val_loss < best_val_loss:\n",
        "        best_val_loss = val_loss\n",
        "        epoch_no_improvement = 0\n",
        "    else:\n",
        "        epoch_no_improvement += 1\n",
        "\n",
        "    if epoch_no_improvement >= patience:\n",
        "        print(f\"Early stopping at epoch {epoch + 1} with best validation loss: {best_val_loss}\")\n",
        "        break\n",
        "\n",
        "    # Print progress\n",
        "    if epoch % 10 == 0:\n",
        "        print(f\"Epoch: {epoch}, Training Loss: {epoch_loss}, Validation Loss: {val_loss}\")\n",
        "\n",
        "\n",
        "# Make predictions on the test set\n",
        "test_pred = model.forward_pass(X_test)\n",
        "\n",
        "# Compute test loss (MSE)\n",
        "test_loss = mse_loss.forward_pass(test_pred, y_test)\n",
        "print(f\"Test Loss (MSE): {test_loss}\")\n",
        "\n",
        "# Root Mean Squared Logarithmic Error (RMSLE)\n",
        "test_rmsle = rmsle_loss.forward_pass(test_pred, y_test)\n",
        "print(f\"Test Loss (RMSLE): {test_rmsle}\")\n",
        "\n",
        "# Plot training and validation losses\n",
        "plt.figure(figsize=(10, 6))\n",
        "plt.plot(train_losses, label=\"Training Loss\")\n",
        "plt.plot(val_losses, label=\"Validation Loss\")\n",
        "plt.xlabel(\"Epoch\")\n",
        "plt.ylabel(\"Loss\")\n",
        "plt.title(\"Training and Validation Loss Over Epochs\")\n",
        "plt.legend()\n",
        "plt.grid(True)\n",
        "plt.show()"
      ],
      "metadata": {
        "colab": {
          "base_uri": "https://localhost:8080/",
          "height": 636
        },
        "id": "XVN4_WaUpeUs",
        "outputId": "ba6571c2-884d-47c6-84bf-cb13a79a9183"
      },
      "execution_count": null,
      "outputs": [
        {
          "output_type": "stream",
          "name": "stdout",
          "text": [
            "Epoch: 0, Training Loss: 0.09129126917483175, Validation Loss: 0.017925382069956565\n",
            "Early stopping at epoch 4 with best validation loss: 0.017925382069956565\n",
            "Test Loss (MSE): 0.017906973214488774\n",
            "Test Loss (RMSLE): 0.07883972660894283\n"
          ]
        },
        {
          "output_type": "display_data",
          "data": {
            "text/plain": [
              "<Figure size 1000x600 with 1 Axes>"
            ],
            "image/png": "[encoded data removed]"
          },
          "metadata": {}
        }
      ]
    },
    {
      "cell_type": "code",
      "source": [
        "model1_total_loss_mse = test_loss\n",
        "model.save_model(save_path=\"model1\")"
      ],
      "metadata": {
        "id": "cqFvsa20trC9"
      },
      "execution_count": null,
      "outputs": []
    },
    {
      "cell_type": "markdown",
      "source": [
        "# Model \\#2"
      ],
      "metadata": {
        "id": "Z_vXv_YAhaLz"
      }
    },
    {
      "cell_type": "code",
      "source": [
        "# Reusing data from previous model\n",
        "X_train = cached_X_train\n",
        "y_train = cached_y_train\n",
        "X_test = cached_X_test\n",
        "y_test = cached_y_test\n",
        "X_val = cached_X_val\n",
        "y_val = cached_y_val"
      ],
      "metadata": {
        "id": "ka4x0_aplQI7"
      },
      "execution_count": null,
      "outputs": []
    },
    {
      "cell_type": "code",
      "source": [
        "# Define model dimensions\n",
        "input_dim = X_train.shape[1]\n",
        "hidden_dim = 128\n",
        "output_dim = 1\n",
        "\n",
        "linear1 = Linear(input_dim, hidden_dim)\n",
        "relu1 = RectifiedLinearUnit(hidden_dim, hidden_dim)\n",
        "\n",
        "linear2 = Linear(hidden_dim, output_dim)\n",
        "relu2 = RectifiedLinearUnit(output_dim, output_dim)\n",
        "\n",
        "# Initialize model\n",
        "model = Sequential([linear1, relu1, relu2, linear2, relu2])\n",
        "\n",
        "mse_loss = MSELoss()\n",
        "\n",
        "# Training parameters\n",
        "epochs = 140\n",
        "lr = 0.001\n",
        "batch_size = 32\n",
        "\n",
        "# Early stopping parameters\n",
        "patience = 3\n",
        "epoch_no_improvement = 0\n",
        "best_val_loss = float('inf')\n",
        "\n",
        "# Lists to store losses for plotting\n",
        "train_losses = []\n",
        "val_losses = []\n",
        "\n",
        "# Training loop\n",
        "for epoch in range(epochs):\n",
        "    epoch_loss = 0\n",
        "    for i in range(0, len(X_train), batch_size):\n",
        "        x = X_train[i:i + batch_size]\n",
        "        y_true = y_train[i:i + batch_size]\n",
        "\n",
        "        # Forward Pass\n",
        "        y_pred = model.forward_pass(x)\n",
        "        loss = mse_loss.forward_pass(y_pred, y_true)\n",
        "\n",
        "        # Backward pass\n",
        "        grad_y_pred = mse_loss.backward_pass(y_pred, y_true)\n",
        "        model.backward_pass(grad_y_pred)\n",
        "\n",
        "        # Update weights and biases (Gradient Descent)\n",
        "        for layer in model.layers:\n",
        "            if isinstance(layer, Linear):\n",
        "                layer.weights -= lr * layer.grad_weights\n",
        "                layer.bias -= lr * layer.grad_bias\n",
        "\n",
        "        epoch_loss += loss\n",
        "\n",
        "    epoch_loss /= (len(X_train) // batch_size)\n",
        "    train_losses.append(epoch_loss)  # Store training loss\n",
        "\n",
        "    # Validation loss\n",
        "    val_pred = model.forward_pass(X_val)\n",
        "    val_loss = mse_loss.forward_pass(val_pred, y_val)\n",
        "    val_losses.append(val_loss)  # Store validation loss\n",
        "\n",
        "    # Early stopping logic\n",
        "    if val_loss < best_val_loss:\n",
        "        best_val_loss = val_loss\n",
        "        epoch_no_improvement = 0\n",
        "    else:\n",
        "        epoch_no_improvement += 1\n",
        "\n",
        "    if epoch_no_improvement >= patience:\n",
        "        print(f\"Early stopping at epoch {epoch + 1} with best validation loss: {best_val_loss}\")\n",
        "        break\n",
        "\n",
        "    # Print progress\n",
        "    if epoch % 10 == 0:\n",
        "        print(f\"Epoch: {epoch}, Training Loss: {epoch_loss}, Validation Loss: {val_loss}\")\n",
        "\n",
        "# Make predictions on the test set\n",
        "test_pred = model.forward_pass(X_test)\n",
        "\n",
        "# Compute test loss (MSE)\n",
        "test_loss = mse_loss.forward_pass(test_pred, y_test)\n",
        "print(f\"Test Loss (MSE): {test_loss}\")\n",
        "\n",
        "# Root Mean Squared Logarithmic Error (RMSLE)\n",
        "test_rmsle = rmsle_loss.forward_pass(test_pred, y_test)\n",
        "print(f\"Test Loss (RMSLE): {test_rmsle}\")\n",
        "\n",
        "# Plot training and validation losses\n",
        "plt.figure(figsize=(10, 6))\n",
        "plt.plot(train_losses, label=\"Training Loss\")\n",
        "plt.plot(val_losses, label=\"Validation Loss\")\n",
        "plt.xlabel(\"Epoch\")\n",
        "plt.ylabel(\"Loss\")\n",
        "plt.title(\"Training and Validation Loss Over Epochs\")\n",
        "plt.legend()\n",
        "plt.grid(True)\n",
        "plt.show()"
      ],
      "metadata": {
        "id": "iD1hQEJXi6bz",
        "colab": {
          "base_uri": "https://localhost:8080/",
          "height": 725
        },
        "outputId": "c89a9b09-0387-4db5-8a04-2908f139f56b"
      },
      "execution_count": null,
      "outputs": [
        {
          "output_type": "stream",
          "name": "stdout",
          "text": [
            "Epoch: 0, Training Loss: 1.000125353047093, Validation Loss: 0.3186106648004981\n",
            "Epoch: 10, Training Loss: 1.0000152106639315, Validation Loss: 0.3186000920373595\n",
            "Epoch: 20, Training Loss: 1.0000122197702503, Validation Loss: 0.31859773802701585\n",
            "Epoch: 30, Training Loss: 1.000006983263791, Validation Loss: 0.31859134171114567\n",
            "Epoch: 40, Training Loss: 0.9999932239864303, Validation Loss: 0.3185733119018126\n",
            "Epoch: 50, Training Loss: 0.9999134334315759, Validation Loss: 0.318485124269989\n",
            "Early stopping at epoch 57 with best validation loss: 0.3147370788929519\n",
            "Test Loss (MSE): 0.34789280600748623\n",
            "Test Loss (RMSLE): 0.1337967526683928\n"
          ]
        },
        {
          "output_type": "display_data",
          "data": {
            "text/plain": [
              "<Figure size 1000x600 with 1 Axes>"
            ],
            "image/png": "[encoded data removed]"
          },
          "metadata": {}
        }
      ]
    },
    {
      "cell_type": "code",
      "source": [
        "model2_total_loss_mse = test_loss\n",
        "model.save_model(save_path=\"model2\")"
      ],
      "metadata": {
        "id": "lFvczvyJjfXb"
      },
      "execution_count": null,
      "outputs": []
    },
    {
      "cell_type": "markdown",
      "source": [
        "# Model \\#3"
      ],
      "metadata": {
        "id": "4XnFGsBli4lC"
      }
    },
    {
      "cell_type": "code",
      "source": [
        "# Use similar features from model 1\n",
        "X_train = X3_train\n",
        "y_train = y3_train\n",
        "X_test  = X3_test\n",
        "y_test  = y3_test\n",
        "X_val   = X3_val\n",
        "y_val   = y3_val"
      ],
      "metadata": {
        "id": "szIWUZo5lW6w"
      },
      "execution_count": null,
      "outputs": []
    },
    {
      "cell_type": "code",
      "source": [
        "# Define model dimensions\n",
        "input_dim = X_train.shape[1]\n",
        "hidden_dim = 8\n",
        "output_dim = 1\n",
        "\n",
        "linear1 = Linear(input_dim, hidden_dim)\n",
        "relu1 = RectifiedLinearUnit(hidden_dim, hidden_dim)\n",
        "tanh1 = Tanh(hidden_dim, hidden_dim)\n",
        "\n",
        "linear2 = Linear(hidden_dim, output_dim)\n",
        "relu2 = RectifiedLinearUnit(output_dim, output_dim)\n",
        "\n",
        "# Initialize model\n",
        "model = Sequential([linear1, tanh1, linear2, relu2])\n",
        "\n",
        "mse_loss = MSELoss()\n",
        "\n",
        "# Training parameters\n",
        "epochs = 140\n",
        "lr = 0.0001\n",
        "batch_size = 32\n",
        "\n",
        "# Early stopping parameters\n",
        "patience = 3\n",
        "epoch_no_improvement = 0\n",
        "best_val_loss = float('inf')\n",
        "\n",
        "# Lists to store losses for plotting\n",
        "train_losses = []\n",
        "val_losses = []\n",
        "\n",
        "# Training loop\n",
        "for epoch in range(epochs):\n",
        "    epoch_loss = 0\n",
        "    for i in range(0, len(X_train), batch_size):\n",
        "        x = X_train[i:i + batch_size]\n",
        "        y_true = y_train[i:i + batch_size]\n",
        "\n",
        "        # Forward Pass\n",
        "        y_pred = model.forward_pass(x)\n",
        "        loss = mse_loss.forward_pass(y_pred, y_true)\n",
        "\n",
        "        # Backward pass\n",
        "        grad_y_pred = mse_loss.backward_pass(y_pred, y_true)\n",
        "        model.backward_pass(grad_y_pred)\n",
        "\n",
        "        # Update weights and biases (Gradient Descent)\n",
        "        for layer in model.layers:\n",
        "            if isinstance(layer, Linear):\n",
        "                layer.weights -= lr * layer.grad_weights\n",
        "                layer.bias -= lr * layer.grad_bias\n",
        "\n",
        "        epoch_loss += loss\n",
        "\n",
        "    epoch_loss /= (len(X_train) // batch_size)\n",
        "    train_losses.append(epoch_loss)  # Store training loss\n",
        "\n",
        "    # Validation loss\n",
        "    val_pred = model.forward_pass(X_val)\n",
        "    val_loss = mse_loss.forward_pass(val_pred, y_val)\n",
        "    val_losses.append(val_loss)  # Store validation loss\n",
        "\n",
        "    # Early stopping logic\n",
        "    if val_loss < best_val_loss:\n",
        "        best_val_loss = val_loss\n",
        "        epoch_no_improvement = 0\n",
        "    else:\n",
        "        epoch_no_improvement += 1\n",
        "\n",
        "    if epoch_no_improvement >= patience:\n",
        "        print(f\"Early stopping at epoch {epoch + 1} with best validation loss: {best_val_loss}\")\n",
        "        break\n",
        "\n",
        "    # Print progress\n",
        "    if epoch % 10 == 0:\n",
        "        print(f\"Epoch: {epoch}, Training Loss: {epoch_loss}, Validation Loss: {val_loss}\")\n",
        "\n",
        "test_pred = model.forward_pass(X_test)\n",
        "\n",
        "# Compute test loss (MSE)\n",
        "test_loss = mse_loss.forward_pass(test_pred, y_test)\n",
        "print(f\"Test Loss (MSE): {test_loss}\")\n",
        "\n",
        "# Root Mean Squared Logarithmic Error (RMSLE)\n",
        "test_rmsle = rmsle_loss.forward_pass(test_pred, y_test)\n",
        "print(f\"Test Loss (RMSLE): {test_rmsle}\")\n",
        "\n",
        "# Plot training and validation losses\n",
        "plt.figure(figsize=(10, 6))\n",
        "plt.plot(train_losses, label=\"Training Loss\")\n",
        "plt.plot(val_losses, label=\"Validation Loss\")\n",
        "plt.xlabel(\"Epoch\")\n",
        "plt.ylabel(\"Loss\")\n",
        "plt.title(\"Training and Validation Loss Over Epochs\")\n",
        "plt.legend()\n",
        "plt.grid(True)\n",
        "plt.show()"
      ],
      "metadata": {
        "colab": {
          "base_uri": "https://localhost:8080/",
          "height": 851
        },
        "id": "0JBNV_Sgi660",
        "outputId": "70af847b-5fdb-4f0a-cfc6-4de331bd2325"
      },
      "execution_count": null,
      "outputs": [
        {
          "output_type": "stream",
          "name": "stdout",
          "text": [
            "Epoch: 0, Training Loss: 1.0113005983816343, Validation Loss: 0.31707305618719117\n",
            "Epoch: 10, Training Loss: 0.9980572214810146, Validation Loss: 0.31621030778326276\n",
            "Epoch: 20, Training Loss: 0.9978608291743746, Validation Loss: 0.3159949820722302\n",
            "Epoch: 30, Training Loss: 0.9977327940165319, Validation Loss: 0.3158647320103147\n",
            "Epoch: 40, Training Loss: 0.9976453923092451, Validation Loss: 0.31578183341757743\n",
            "Epoch: 50, Training Loss: 0.9975728065469085, Validation Loss: 0.3157172642580544\n",
            "Epoch: 60, Training Loss: 0.9974972349888325, Validation Loss: 0.3156470624294876\n",
            "Epoch: 70, Training Loss: 0.9974175332115405, Validation Loss: 0.3155683932028728\n",
            "Epoch: 80, Training Loss: 0.9973253630794525, Validation Loss: 0.3154826981619792\n",
            "Epoch: 90, Training Loss: 0.997214065311523, Validation Loss: 0.3153769776051857\n",
            "Epoch: 100, Training Loss: 0.9960946483103745, Validation Loss: 0.3150584181714708\n",
            "Epoch: 110, Training Loss: 0.9956241264286682, Validation Loss: 0.31469766541704747\n",
            "Epoch: 120, Training Loss: 0.9953595038941601, Validation Loss: 0.3144249294680507\n",
            "Epoch: 130, Training Loss: 0.9951199531360368, Validation Loss: 0.3142500032874984\n",
            "Test Loss (MSE): 0.3436075497776558\n",
            "Test Loss (RMSLE): 0.12263978383234937\n"
          ]
        },
        {
          "output_type": "display_data",
          "data": {
            "text/plain": [
              "<Figure size 1000x600 with 1 Axes>"
            ],
            "image/png": "[encoded data removed]"
          },
          "metadata": {}
        }
      ]
    },
    {
      "cell_type": "code",
      "source": [
        "model3_total_loss_mse = test_loss\n",
        "model.save_model(save_path=\"model3\")"
      ],
      "metadata": {
        "id": "CcVMvUQMjhbD"
      },
      "execution_count": null,
      "outputs": []
    },
    {
      "cell_type": "markdown",
      "source": [
        "# 3 Model Comparison\n",
        "\n",
        "---\n",
        "\n"
      ],
      "metadata": {
        "id": "PFx0YRQCjiQ_"
      }
    },
    {
      "cell_type": "code",
      "source": [
        "print(f\"Final Results\\n--------------------------------\\nModel 1 MSE: {model1_total_loss_mse} \\nModel 2 MSE {model2_total_loss_mse} \\nModel 2 MSE {model3_total_loss_mse}\")"
      ],
      "metadata": {
        "id": "gxFrKSxzjodf",
        "colab": {
          "base_uri": "https://localhost:8080/"
        },
        "outputId": "d9d066e7-b5c5-4595-fc7c-5a44de4fcd93"
      },
      "execution_count": null,
      "outputs": [
        {
          "output_type": "stream",
          "name": "stdout",
          "text": [
            "Final Results\n",
            "--------------------------------\n",
            "Model 1 MSE: 0.018807124332440927 \n",
            "Model 2 MSE 0.34789281973997616 \n",
            "Model 2 MSE 0.3436075497776558\n"
          ]
        }
      ]
    }
  ],
  "metadata": {
    "colab": {
      "collapsed_sections": [
        "XXN3dXH3qGGA"
      ],
      "provenance": []
    },
    "kernelspec": {
      "display_name": "Python 3",
      "name": "python3"
    },
    "language_info": {
      "name": "python"
    }
  },
  "nbformat": 4,
  "nbformat_minor": 0
}